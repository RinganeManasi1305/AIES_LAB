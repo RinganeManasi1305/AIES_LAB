{
 "cells": [
  {
   "cell_type": "markdown",
   "id": "e4483040",
   "metadata": {},
   "source": [
    "Name : Manasi Ringane\n",
    "\n",
    "Class : B.Tech AIML (A div)\n",
    "\n",
    "PRN : 22SC114501043\n",
    "\n",
    "Roll No. : 39\n",
    "\n",
    "Experiment 1 : Detecting algorithmic bias in hiring dataset"
   ]
  },
  {
   "cell_type": "markdown",
   "id": "755c7918",
   "metadata": {},
   "source": [
    "# Experiment No. 1 - Detecting Algorithmic Bias in a Dataset\n",
    "\n",
    "## 🎯 Objective\n",
    "The goal of this experiment is to **detect algorithmic bias** in a dataset.  \n",
    "We will use the **Adult Income Dataset** to predict whether a person earns more than 50K/year.  \n",
    "\n",
    "Since this dataset contains features like **sex** and **race**, it is often used to demonstrate how machine learning models can show **unfair outcomes**.  \n",
    "We will train a model and then check if it performs equally across **different demographic groups**."
   ]
  },
  {
   "cell_type": "code",
   "execution_count": 1,
   "id": "860e012c",
   "metadata": {},
   "outputs": [],
   "source": [
    "# 🧩 Step 0 — Install Fairlearn This installs the fairlearn library, which helps in assessing and mitigating unfairness in machine learning models.\n",
    "!pip install -q fairlearn\n"
   ]
  },
  {
   "cell_type": "code",
   "execution_count": 2,
   "id": "820e19d6",
   "metadata": {},
   "outputs": [
    {
     "name": "stdout",
     "output_type": "stream",
     "text": [
      "Requirement already satisfied: fairlearn in c:\\users\\rajpu\\anaconda3\\new folder\\anaconda.5\\lib\\site-packages (0.12.0)\n",
      "Requirement already satisfied: numpy>=1.24.4 in c:\\users\\rajpu\\anaconda3\\new folder\\anaconda.5\\lib\\site-packages (from fairlearn) (1.26.4)\n",
      "Requirement already satisfied: pandas>=2.0.3 in c:\\users\\rajpu\\anaconda3\\new folder\\anaconda.5\\lib\\site-packages (from fairlearn) (2.1.4)\n",
      "Requirement already satisfied: scikit-learn>=1.2.1 in c:\\users\\rajpu\\anaconda3\\new folder\\anaconda.5\\lib\\site-packages (from fairlearn) (1.2.2)\n",
      "Requirement already satisfied: scipy>=1.9.3 in c:\\users\\rajpu\\anaconda3\\new folder\\anaconda.5\\lib\\site-packages (from fairlearn) (1.11.4)\n",
      "Requirement already satisfied: python-dateutil>=2.8.2 in c:\\users\\rajpu\\anaconda3\\new folder\\anaconda.5\\lib\\site-packages (from pandas>=2.0.3->fairlearn) (2.8.2)\n",
      "Requirement already satisfied: pytz>=2020.1 in c:\\users\\rajpu\\anaconda3\\new folder\\anaconda.5\\lib\\site-packages (from pandas>=2.0.3->fairlearn) (2023.3.post1)\n",
      "Requirement already satisfied: tzdata>=2022.1 in c:\\users\\rajpu\\anaconda3\\new folder\\anaconda.5\\lib\\site-packages (from pandas>=2.0.3->fairlearn) (2023.3)\n",
      "Requirement already satisfied: joblib>=1.1.1 in c:\\users\\rajpu\\anaconda3\\new folder\\anaconda.5\\lib\\site-packages (from scikit-learn>=1.2.1->fairlearn) (1.2.0)\n",
      "Requirement already satisfied: threadpoolctl>=2.0.0 in c:\\users\\rajpu\\anaconda3\\new folder\\anaconda.5\\lib\\site-packages (from scikit-learn>=1.2.1->fairlearn) (2.2.0)\n",
      "Requirement already satisfied: six>=1.5 in c:\\users\\rajpu\\anaconda3\\new folder\\anaconda.5\\lib\\site-packages (from python-dateutil>=2.8.2->pandas>=2.0.3->fairlearn) (1.16.0)\n"
     ]
    }
   ],
   "source": [
    "!pip install fairlearn \n"
   ]
  },
  {
   "cell_type": "markdown",
   "id": "0968a3d7",
   "metadata": {},
   "source": [
    "## 1) Import libraries\n",
    "We’ll use pandas/scikit-learn for modeling and `fairlearn` for fairness metrics and constraints.\n"
   ]
  },
  {
   "cell_type": "code",
   "execution_count": 11,
   "id": "67eb2df0",
   "metadata": {},
   "outputs": [],
   "source": [
    "# ===============================\n",
    "# 1) Import Necessary Libraries\n",
    "# ===============================\n",
    "import pandas as pd\n",
    "import numpy as np\n",
    "import matplotlib.pyplot as plt\n",
    "import seaborn as sns\n",
    "\n",
    "from sklearn.linear_model import LogisticRegression\n",
    "from sklearn.metrics import accuracy_score, classification_report\n",
    "\n",
    "from fairlearn.metrics import MetricFrame, selection_rate\n",
    "from fairlearn.reductions import ExponentiatedGradient, DemographicParity\n",
    "\n"
   ]
  },
  {
   "cell_type": "markdown",
   "id": "87f538e1",
   "metadata": {},
   "source": [
    "## 2) Load dataset (robust to header variations)\n",
    "- Your file path is **`D:\\AIES Experiments\\Exp 1_aies\\adult.csv`** (Windows).\n",
    "- If running in a different environment, it will try a relative fallback `adult.csv`.\n",
    "- We also normalize column names to a consistent snake_case format.\n"
   ]
  },
  {
   "cell_type": "code",
   "execution_count": null,
   "id": "28a2f709",
   "metadata": {},
   "outputs": [],
   "source": [
    "# Load dataset\n",
    "data = pd.read_csv(r\"D:\\AIES Experiments\\Exp 1_aies\\adult.csv\")\n",
    "\n",
    "print(\"✅ Dataset Loaded\")\n",
    "print(\"Columns:\", data.columns.tolist())\n",
    "print(\"\\nPreview:\\n\", data.head())\n"
   ]
  },
  {
   "cell_type": "markdown",
   "id": "984d7134",
   "metadata": {},
   "source": [
    "## 3) Preprocess the Data\n",
    "\n",
    "Steps:\n",
    "- Clean column names (remove spaces, replace `.` with `_` for easier handling).\n",
    "- Encode the target variable `income` (`>50K` → 1, `<=50K` → 0).\n",
    "- Select a subset of relevant features for simplicity.\n",
    "- Apply one-hot encoding to categorical variables.\n"
   ]
  },
  {
   "cell_type": "code",
   "execution_count": 12,
   "id": "6556fa85",
   "metadata": {},
   "outputs": [
    {
     "name": "stdout",
     "output_type": "stream",
     "text": [
      "✅ After Encoding\n",
      "   age  education_num  hours_per_week  income  gender_Male  \\\n",
      "0   90              9              40       0        False   \n",
      "1   82              9              18       0        False   \n",
      "2   66             10              40       0        False   \n",
      "3   54              4              40       0        False   \n",
      "4   41             10              40       0        False   \n",
      "\n",
      "   race_Asian-Pac-Islander  race_Black  race_Other  race_White  \n",
      "0                    False       False       False        True  \n",
      "1                    False       False       False        True  \n",
      "2                    False        True       False       False  \n",
      "3                    False       False       False        True  \n",
      "4                    False       False       False        True  \n"
     ]
    }
   ],
   "source": [
    "# Clean column names\n",
    "data.columns = data.columns.str.strip().str.replace(\".\", \"_\")\n",
    "\n",
    "# Encode target column\n",
    "data[\"income\"] = data[\"income\"].str.strip()\n",
    "data[\"income\"] = data[\"income\"].replace({\"<=50K\": 0, \">50K\": 1, \"<=50K.\": 0, \">50K.\": 1})\n",
    "\n",
    "# Select relevant features + target\n",
    "df = data[[\"age\", \"education_num\", \"hours_per_week\", \"gender\", \"race\", \"income\"]].copy()\n",
    "\n",
    "# One-hot encoding for categorical vars\n",
    "df_enc = pd.get_dummies(df, drop_first=True)\n",
    "\n",
    "print(\"✅ After Encoding\")\n",
    "print(df_enc.head())\n"
   ]
  },
  {
   "cell_type": "markdown",
   "id": "15710e63",
   "metadata": {},
   "source": [
    "## 4) Train/Test Split\n",
    "\n",
    "We split into **features (X)** and **target (y)**.  \n",
    "We also keep the sensitive attribute `gender_Male` aside for fairness evaluation.\n"
   ]
  },
  {
   "cell_type": "code",
   "execution_count": 13,
   "id": "df025015",
   "metadata": {},
   "outputs": [
    {
     "name": "stdout",
     "output_type": "stream",
     "text": [
      "Train size: (22792, 8)  Test size: (9769, 8)\n"
     ]
    }
   ],
   "source": [
    "# Features and target\n",
    "X = df_enc.drop(columns=[\"income\"])\n",
    "y = df_enc[\"income\"]\n",
    "\n",
    "# Sensitive attribute: gender (encoded as gender_Male)\n",
    "sf = df_enc[\"gender_Male\"]\n",
    "\n",
    "# Split\n",
    "X_train, X_test, y_train, y_test, sf_train, sf_test = train_test_split(\n",
    "    X, y, sf, test_size=0.3, random_state=42, stratify=y\n",
    ")\n",
    "\n",
    "print(\"Train size:\", X_train.shape, \" Test size:\", X_test.shape)\n"
   ]
  },
  {
   "cell_type": "markdown",
   "id": "c9c863f8",
   "metadata": {},
   "source": [
    "## 5) Train a Logistic Regression Model\n"
   ]
  },
  {
   "cell_type": "code",
   "execution_count": 14,
   "id": "45e16b4f",
   "metadata": {},
   "outputs": [
    {
     "name": "stdout",
     "output_type": "stream",
     "text": [
      "✅ Model Trained\n",
      "Accuracy: 0.8063261336881974\n",
      "\n",
      "Classification Report:\n",
      "               precision    recall  f1-score   support\n",
      "\n",
      "           0       0.83      0.94      0.88      7417\n",
      "           1       0.66      0.40      0.50      2352\n",
      "\n",
      "    accuracy                           0.81      9769\n",
      "   macro avg       0.75      0.67      0.69      9769\n",
      "weighted avg       0.79      0.81      0.79      9769\n",
      "\n"
     ]
    }
   ],
   "source": [
    "model = LogisticRegression(max_iter=1000)\n",
    "model.fit(X_train, y_train)\n",
    "\n",
    "y_pred = model.predict(X_test)\n",
    "\n",
    "print(\"✅ Model Trained\")\n",
    "print(\"Accuracy:\", accuracy_score(y_test, y_pred))\n",
    "print(\"\\nClassification Report:\\n\", classification_report(y_test, y_pred))\n"
   ]
  },
  {
   "cell_type": "markdown",
   "id": "4d0c71b1",
   "metadata": {},
   "source": [
    "## 6) Fairness Evaluation\n",
    "\n",
    "We evaluate fairness by comparing **selection rates** (probability of predicting >50K) and **accuracy** across groups (Male vs Female).\n"
   ]
  },
  {
   "cell_type": "code",
   "execution_count": 16,
   "id": "d5e285a9",
   "metadata": {},
   "outputs": [
    {
     "name": "stdout",
     "output_type": "stream",
     "text": [
      "✅ Fairness Metrics\n",
      "             accuracy  selection_rate\n",
      "gender_Male                          \n",
      "False        0.888993        0.013993\n",
      "True         0.765756        0.206776\n"
     ]
    }
   ],
   "source": [
    "from sklearn.metrics import accuracy_score\n",
    "from fairlearn.metrics import MetricFrame, selection_rate\n",
    "\n",
    "# Rename sklearn's accuracy_score so we can use it inside MetricFrame\n",
    "fair_accuracy = accuracy_score\n",
    "\n",
    "# MetricFrame for fairness analysis\n",
    "mf = MetricFrame(\n",
    "    metrics={\"accuracy\": fair_accuracy, \"selection_rate\": selection_rate},\n",
    "    y_true=y_test,\n",
    "    y_pred=y_pred,\n",
    "    sensitive_features=sf_test\n",
    ")\n",
    "\n",
    "print(\"✅ Fairness Metrics\")\n",
    "print(mf.by_group)\n"
   ]
  },
  {
   "cell_type": "code",
   "execution_count": 17,
   "id": "11e297cc",
   "metadata": {},
   "outputs": [
    {
     "name": "stdout",
     "output_type": "stream",
     "text": [
      "✅ Fairness Metrics\n",
      "             accuracy  selection_rate\n",
      "gender_Male                          \n",
      "False        0.888993        0.013993\n",
      "True         0.765756        0.206776\n"
     ]
    },
    {
     "data": {
      "image/png": "[encoded data removed]",
      "text/plain": [
       "<Figure size 1000x400 with 2 Axes>"
      ]
     },
     "metadata": {},
     "output_type": "display_data"
    }
   ],
   "source": [
    "# MetricFrame for fairness analysis\n",
    "mf = MetricFrame(\n",
    "    metrics={\"accuracy\": fair_accuracy, \"selection_rate\": selection_rate},\n",
    "    y_true=y_test,\n",
    "    y_pred=y_pred,\n",
    "    sensitive_features=sf_test\n",
    ")\n",
    "\n",
    "print(\"✅ Fairness Metrics\")\n",
    "print(mf.by_group)\n",
    "\n",
    "# Visualization\n",
    "mf.by_group.plot(kind=\"bar\", subplots=True, layout=(1, 2), figsize=(10,4), legend=False)\n",
    "plt.suptitle(\"Fairness Metrics by Gender\")\n",
    "plt.show()\n"
   ]
  },
  {
   "cell_type": "markdown",
   "id": "ee5228f4",
   "metadata": {},
   "source": [
    "## 7) Train a Fair Model with Demographic Parity\n",
    "\n",
    "We will use **Fairlearn’s ExponentiatedGradient** method with a **Demographic Parity** constraint.\n"
   ]
  },
  {
   "cell_type": "code",
   "execution_count": 18,
   "id": "6597607c",
   "metadata": {},
   "outputs": [
    {
     "name": "stdout",
     "output_type": "stream",
     "text": [
      "✅ Fair Model Trained\n",
      "Accuracy (Fair Model): 0.7803255195004607\n"
     ]
    }
   ],
   "source": [
    "constraint = DemographicParity()\n",
    "fair_model = ExponentiatedGradient(LogisticRegression(max_iter=1000), constraints=constraint)\n",
    "\n",
    "fair_model.fit(X_train, y_train, sensitive_features=sf_train)\n",
    "y_pred_fair = fair_model.predict(X_test)\n",
    "\n",
    "print(\"✅ Fair Model Trained\")\n",
    "print(\"Accuracy (Fair Model):\", accuracy_score(y_test, y_pred_fair))\n"
   ]
  },
  {
   "cell_type": "markdown",
   "id": "dd95ffa7",
   "metadata": {},
   "source": [
    "## 8) Fairness Evaluation of the Fair Model\n"
   ]
  },
  {
   "cell_type": "code",
   "execution_count": 19,
   "id": "e3ed6e05",
   "metadata": {},
   "outputs": [
    {
     "name": "stdout",
     "output_type": "stream",
     "text": [
      "✅ Fair Model Metrics\n",
      "             accuracy  selection_rate\n",
      "gender_Male                          \n",
      "False        0.853545        0.109142\n",
      "True         0.744392        0.119182\n"
     ]
    },
    {
     "data": {
      "image/png": "[encoded data removed]",
      "text/plain": [
       "<Figure size 1000x400 with 2 Axes>"
      ]
     },
     "metadata": {},
     "output_type": "display_data"
    }
   ],
   "source": [
    "mf_fair = MetricFrame(\n",
    "    metrics={\"accuracy\": fair_accuracy, \"selection_rate\": selection_rate},\n",
    "    y_true=y_test,\n",
    "    y_pred=y_pred_fair,\n",
    "    sensitive_features=sf_test\n",
    ")\n",
    "\n",
    "print(\"✅ Fair Model Metrics\")\n",
    "print(mf_fair.by_group)\n",
    "\n",
    "# Visualization\n",
    "mf_fair.by_group.plot(kind=\"bar\", subplots=True, layout=(1, 2), figsize=(10,4), legend=False)\n",
    "plt.suptitle(\"Fair Model Metrics by Gender\")\n",
    "plt.show()\n"
   ]
  },
  {
   "cell_type": "markdown",
   "id": "4b1497ed",
   "metadata": {},
   "source": [
    "# ✅ Conclusion\n",
    "\n",
    "We compared the baseline logistic regression with a fair model under demographic parity.  \n",
    "- The **baseline model** had higher accuracy but showed differences in selection rates across gender.  \n",
    "- The **fair model** reduced the disparity, though with a trade-off in accuracy.  \n",
    "\n",
    "This demonstrates how **algorithmic bias can be detected and mitigated** using Fairlearn.\n"
   ]
  }
 ],
 "metadata": {
  "kernelspec": {
   "display_name": "base",
   "language": "python",
   "name": "python3"
  },
  "language_info": {
   "codemirror_mode": {
    "name": "ipython",
    "version": 3
   },
   "file_extension": ".py",
   "mimetype": "text/x-python",
   "name": "python",
   "nbconvert_exporter": "python",
   "pygments_lexer": "ipython3",
   "version": "3.11.7"
  }
 },
 "nbformat": 4,
 "nbformat_minor": 5
}
